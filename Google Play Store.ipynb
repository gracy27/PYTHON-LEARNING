{
 "cells": [
  {
   "cell_type": "code",
   "execution_count": 61,
   "id": "064399a2-3331-4f8a-98c6-3bbdde870969",
   "metadata": {},
   "outputs": [],
   "source": [
    "import pandas as pd\n",
    "import numpy as np\n",
    "\n"
   ]
  },
  {
   "cell_type": "code",
   "execution_count": 2,
   "id": "d4dd55c5-535e-43b5-a470-462aa83fbf4e",
   "metadata": {},
   "outputs": [],
   "source": [
    "df=pd.read_csv('googleplaystore.csv')"
   ]
  },
  {
   "cell_type": "code",
   "execution_count": 3,
   "id": "b029417d-de6b-4e52-b62c-e2eb83317117",
   "metadata": {},
   "outputs": [
    {
     "data": {
      "text/html": [
       "<div>\n",
       "<style scoped>\n",
       "    .dataframe tbody tr th:only-of-type {\n",
       "        vertical-align: middle;\n",
       "    }\n",
       "\n",
       "    .dataframe tbody tr th {\n",
       "        vertical-align: top;\n",
       "    }\n",
       "\n",
       "    .dataframe thead th {\n",
       "        text-align: right;\n",
       "    }\n",
       "</style>\n",
       "<table border=\"1\" class=\"dataframe\">\n",
       "  <thead>\n",
       "    <tr style=\"text-align: right;\">\n",
       "      <th></th>\n",
       "      <th>App</th>\n",
       "      <th>Category</th>\n",
       "      <th>Rating</th>\n",
       "      <th>Reviews</th>\n",
       "      <th>Size</th>\n",
       "      <th>Installs</th>\n",
       "      <th>Type</th>\n",
       "      <th>Price</th>\n",
       "      <th>Content Rating</th>\n",
       "      <th>Genres</th>\n",
       "      <th>Last Updated</th>\n",
       "      <th>Current Ver</th>\n",
       "      <th>Android Ver</th>\n",
       "    </tr>\n",
       "  </thead>\n",
       "  <tbody>\n",
       "    <tr>\n",
       "      <th>0</th>\n",
       "      <td>Photo Editor &amp; Candy Camera &amp; Grid &amp; ScrapBook</td>\n",
       "      <td>ART_AND_DESIGN</td>\n",
       "      <td>4.1</td>\n",
       "      <td>159</td>\n",
       "      <td>19M</td>\n",
       "      <td>10,000+</td>\n",
       "      <td>Free</td>\n",
       "      <td>0</td>\n",
       "      <td>Everyone</td>\n",
       "      <td>Art &amp; Design</td>\n",
       "      <td>January 7, 2018</td>\n",
       "      <td>1.0.0</td>\n",
       "      <td>4.0.3 and up</td>\n",
       "    </tr>\n",
       "    <tr>\n",
       "      <th>1</th>\n",
       "      <td>Coloring book moana</td>\n",
       "      <td>ART_AND_DESIGN</td>\n",
       "      <td>3.9</td>\n",
       "      <td>967</td>\n",
       "      <td>14M</td>\n",
       "      <td>500,000+</td>\n",
       "      <td>Free</td>\n",
       "      <td>0</td>\n",
       "      <td>Everyone</td>\n",
       "      <td>Art &amp; Design;Pretend Play</td>\n",
       "      <td>January 15, 2018</td>\n",
       "      <td>2.0.0</td>\n",
       "      <td>4.0.3 and up</td>\n",
       "    </tr>\n",
       "    <tr>\n",
       "      <th>2</th>\n",
       "      <td>U Launcher Lite – FREE Live Cool Themes, Hide ...</td>\n",
       "      <td>ART_AND_DESIGN</td>\n",
       "      <td>4.7</td>\n",
       "      <td>87510</td>\n",
       "      <td>8.7M</td>\n",
       "      <td>5,000,000+</td>\n",
       "      <td>Free</td>\n",
       "      <td>0</td>\n",
       "      <td>Everyone</td>\n",
       "      <td>Art &amp; Design</td>\n",
       "      <td>August 1, 2018</td>\n",
       "      <td>1.2.4</td>\n",
       "      <td>4.0.3 and up</td>\n",
       "    </tr>\n",
       "    <tr>\n",
       "      <th>3</th>\n",
       "      <td>Sketch - Draw &amp; Paint</td>\n",
       "      <td>ART_AND_DESIGN</td>\n",
       "      <td>4.5</td>\n",
       "      <td>215644</td>\n",
       "      <td>25M</td>\n",
       "      <td>50,000,000+</td>\n",
       "      <td>Free</td>\n",
       "      <td>0</td>\n",
       "      <td>Teen</td>\n",
       "      <td>Art &amp; Design</td>\n",
       "      <td>June 8, 2018</td>\n",
       "      <td>Varies with device</td>\n",
       "      <td>4.2 and up</td>\n",
       "    </tr>\n",
       "    <tr>\n",
       "      <th>4</th>\n",
       "      <td>Pixel Draw - Number Art Coloring Book</td>\n",
       "      <td>ART_AND_DESIGN</td>\n",
       "      <td>4.3</td>\n",
       "      <td>967</td>\n",
       "      <td>2.8M</td>\n",
       "      <td>100,000+</td>\n",
       "      <td>Free</td>\n",
       "      <td>0</td>\n",
       "      <td>Everyone</td>\n",
       "      <td>Art &amp; Design;Creativity</td>\n",
       "      <td>June 20, 2018</td>\n",
       "      <td>1.1</td>\n",
       "      <td>4.4 and up</td>\n",
       "    </tr>\n",
       "  </tbody>\n",
       "</table>\n",
       "</div>"
      ],
      "text/plain": [
       "                                                 App        Category  Rating  \\\n",
       "0     Photo Editor & Candy Camera & Grid & ScrapBook  ART_AND_DESIGN     4.1   \n",
       "1                                Coloring book moana  ART_AND_DESIGN     3.9   \n",
       "2  U Launcher Lite – FREE Live Cool Themes, Hide ...  ART_AND_DESIGN     4.7   \n",
       "3                              Sketch - Draw & Paint  ART_AND_DESIGN     4.5   \n",
       "4              Pixel Draw - Number Art Coloring Book  ART_AND_DESIGN     4.3   \n",
       "\n",
       "  Reviews  Size     Installs  Type Price Content Rating  \\\n",
       "0     159   19M      10,000+  Free     0       Everyone   \n",
       "1     967   14M     500,000+  Free     0       Everyone   \n",
       "2   87510  8.7M   5,000,000+  Free     0       Everyone   \n",
       "3  215644   25M  50,000,000+  Free     0           Teen   \n",
       "4     967  2.8M     100,000+  Free     0       Everyone   \n",
       "\n",
       "                      Genres      Last Updated         Current Ver  \\\n",
       "0               Art & Design   January 7, 2018               1.0.0   \n",
       "1  Art & Design;Pretend Play  January 15, 2018               2.0.0   \n",
       "2               Art & Design    August 1, 2018               1.2.4   \n",
       "3               Art & Design      June 8, 2018  Varies with device   \n",
       "4    Art & Design;Creativity     June 20, 2018                 1.1   \n",
       "\n",
       "    Android Ver  \n",
       "0  4.0.3 and up  \n",
       "1  4.0.3 and up  \n",
       "2  4.0.3 and up  \n",
       "3    4.2 and up  \n",
       "4    4.4 and up  "
      ]
     },
     "execution_count": 3,
     "metadata": {},
     "output_type": "execute_result"
    }
   ],
   "source": [
    "df.head()"
   ]
  },
  {
   "cell_type": "code",
   "execution_count": 5,
   "id": "2fb78cd3-0bfe-4ad8-95ab-cc6e61643eb9",
   "metadata": {},
   "outputs": [
    {
     "data": {
      "text/plain": [
       "pandas.core.series.Series"
      ]
     },
     "execution_count": 5,
     "metadata": {},
     "output_type": "execute_result"
    }
   ],
   "source": [
    "type(df['Rating'])"
   ]
  },
  {
   "cell_type": "code",
   "execution_count": 17,
   "id": "d294f1a4-ccff-4502-8657-3dc013327e70",
   "metadata": {},
   "outputs": [],
   "source": [
    "df=df.dropna()"
   ]
  },
  {
   "cell_type": "code",
   "execution_count": 18,
   "id": "b7502a36-03c8-4852-9b58-17e253f9c4a8",
   "metadata": {},
   "outputs": [
    {
     "data": {
      "text/plain": [
       "App               0\n",
       "Category          0\n",
       "Rating            0\n",
       "Reviews           0\n",
       "Size              0\n",
       "Installs          0\n",
       "Type              0\n",
       "Price             0\n",
       "Content Rating    0\n",
       "Genres            0\n",
       "Last Updated      0\n",
       "Current Ver       0\n",
       "Android Ver       0\n",
       "dtype: int64"
      ]
     },
     "execution_count": 18,
     "metadata": {},
     "output_type": "execute_result"
    }
   ],
   "source": [
    "df.isnull().sum()"
   ]
  },
  {
   "cell_type": "markdown",
   "id": "4673091e-cb4c-4bab-b3dc-d6e68faee0a4",
   "metadata": {},
   "source": [
    "### 1. AVERAGE RATING OF APPS\n"
   ]
  },
  {
   "cell_type": "code",
   "execution_count": 21,
   "id": "9d9b1e6e-0ed8-4e07-a2a8-e4fdc27ae765",
   "metadata": {},
   "outputs": [
    {
     "data": {
      "text/plain": [
       "39235"
      ]
     },
     "execution_count": 21,
     "metadata": {},
     "output_type": "execute_result"
    }
   ],
   "source": [
    "a=sum(df['Rating'])\n",
    "int(a)"
   ]
  },
  {
   "cell_type": "code",
   "execution_count": 23,
   "id": "8e56913f-0241-471d-b0ae-4164bd5f376b",
   "metadata": {},
   "outputs": [
    {
     "data": {
      "text/plain": [
       "9360"
      ]
     },
     "execution_count": 23,
     "metadata": {},
     "output_type": "execute_result"
    }
   ],
   "source": [
    "size=len(df['Rating'])\n",
    "size"
   ]
  },
  {
   "cell_type": "code",
   "execution_count": 24,
   "id": "149cd387-3fca-41fa-bb6a-e83645bdf20f",
   "metadata": {},
   "outputs": [
    {
     "data": {
      "text/plain": [
       "4.191837606837612"
      ]
     },
     "execution_count": 24,
     "metadata": {},
     "output_type": "execute_result"
    }
   ],
   "source": [
    "mean_rating=a/size\n",
    "mean_rating"
   ]
  },
  {
   "cell_type": "markdown",
   "id": "451bbbaa-64ef-44ad-9e6a-d4115462c24d",
   "metadata": {},
   "source": [
    "### 2. HOW MANY APPS ARE THERE OF RATING 5\n"
   ]
  },
  {
   "cell_type": "code",
   "execution_count": 25,
   "id": "01ee90f8-6f3b-4aae-b6c9-fd3397aea9c0",
   "metadata": {},
   "outputs": [
    {
     "name": "stdout",
     "output_type": "stream",
     "text": [
      "274\n"
     ]
    }
   ],
   "source": [
    "count=0\n",
    "for i in df['Rating']:\n",
    "    if(i==5.0):\n",
    "        count=count+1\n",
    "print(count)"
   ]
  },
  {
   "cell_type": "markdown",
   "id": "bf61a8db-7348-4124-9302-099bc73711e8",
   "metadata": {},
   "source": [
    "### 3. HOW MANY APPS ARE THERE OF RATING 4-4.5"
   ]
  },
  {
   "cell_type": "code",
   "execution_count": 36,
   "id": "d4c2aa63-6df4-4394-b73b-a7713aa1f7ca",
   "metadata": {},
   "outputs": [
    {
     "name": "stdout",
     "output_type": "stream",
     "text": [
      "5446\n"
     ]
    }
   ],
   "source": [
    "count=0\n",
    "for i in df['Rating']:\n",
    "    if(i>=4.0 and i<=4.5):\n",
    "        count=count+1\n",
    "print(count)"
   ]
  },
  {
   "cell_type": "markdown",
   "id": "93a03b86-11e6-4c32-9db8-babe5303be8f",
   "metadata": {},
   "source": [
    "### 4. AVERAGE APP REVIEWS"
   ]
  },
  {
   "cell_type": "code",
   "execution_count": 32,
   "id": "92255529-fc51-4008-89f6-8ef23166247d",
   "metadata": {},
   "outputs": [
    {
     "data": {
      "text/plain": [
       "'159'"
      ]
     },
     "execution_count": 32,
     "metadata": {},
     "output_type": "execute_result"
    }
   ],
   "source": [
    "df['Reviews'][0]\n"
   ]
  },
  {
   "cell_type": "code",
   "execution_count": 34,
   "id": "8ced9bf1-7056-48be-b6e7-d3e016eac24b",
   "metadata": {},
   "outputs": [
    {
     "name": "stdout",
     "output_type": "stream",
     "text": [
      "514376\n"
     ]
    }
   ],
   "source": [
    "s=0\n",
    "for i in df['Reviews']:\n",
    "    s+=int(i)\n",
    "length=len(df['Reviews'])\n",
    "average_reviews=s/length\n",
    "print(int(average_reviews))"
   ]
  },
  {
   "cell_type": "markdown",
   "id": "9aa2af88-9283-4824-849d-92a0a29cfe38",
   "metadata": {},
   "source": [
    "### 5. TOTAL NO OF UNIQUE CATEGORIES\n"
   ]
  },
  {
   "cell_type": "code",
   "execution_count": 40,
   "id": "fb2b5b99-e206-4f90-9f99-75d6eec0bed7",
   "metadata": {},
   "outputs": [
    {
     "data": {
      "text/plain": [
       "33"
      ]
     },
     "execution_count": 40,
     "metadata": {},
     "output_type": "execute_result"
    }
   ],
   "source": [
    "ans=len(df['Category'].unique())\n",
    "ans"
   ]
  },
  {
   "cell_type": "markdown",
   "id": "e08d4d93-d67a-4fd1-a55f-8cc0ee998bbf",
   "metadata": {},
   "source": [
    "### 6. TOTAL APPLICATION OF ART AND DESIGN\n"
   ]
  },
  {
   "cell_type": "code",
   "execution_count": 41,
   "id": "dd8b84c0-3e52-47f7-843a-52dc5b706e97",
   "metadata": {},
   "outputs": [
    {
     "name": "stdout",
     "output_type": "stream",
     "text": [
      "61\n"
     ]
    }
   ],
   "source": [
    "count=0\n",
    "for i in df['Category']:\n",
    "    if(i=='ART_AND_DESIGN'):\n",
    "        count=count+1\n",
    "print(count)"
   ]
  },
  {
   "cell_type": "markdown",
   "id": "8a9b08b3-8e5e-4319-b15a-fbd0c1729e86",
   "metadata": {},
   "source": [
    "### 7. DIFFERENT CATEGORIES OF APPLICATION"
   ]
  },
  {
   "cell_type": "code",
   "execution_count": 42,
   "id": "0becaee0-f39b-4ea3-bf59-9734ff1150f2",
   "metadata": {},
   "outputs": [
    {
     "data": {
      "text/plain": [
       "array(['ART_AND_DESIGN', 'AUTO_AND_VEHICLES', 'BEAUTY',\n",
       "       'BOOKS_AND_REFERENCE', 'BUSINESS', 'COMICS', 'COMMUNICATION',\n",
       "       'DATING', 'EDUCATION', 'ENTERTAINMENT', 'EVENTS', 'FINANCE',\n",
       "       'FOOD_AND_DRINK', 'HEALTH_AND_FITNESS', 'HOUSE_AND_HOME',\n",
       "       'LIBRARIES_AND_DEMO', 'LIFESTYLE', 'GAME', 'FAMILY', 'MEDICAL',\n",
       "       'SOCIAL', 'SHOPPING', 'PHOTOGRAPHY', 'SPORTS', 'TRAVEL_AND_LOCAL',\n",
       "       'TOOLS', 'PERSONALIZATION', 'PRODUCTIVITY', 'PARENTING', 'WEATHER',\n",
       "       'VIDEO_PLAYERS', 'NEWS_AND_MAGAZINES', 'MAPS_AND_NAVIGATION'],\n",
       "      dtype=object)"
      ]
     },
     "execution_count": 42,
     "metadata": {},
     "output_type": "execute_result"
    }
   ],
   "source": [
    "df['Category'].unique()"
   ]
  },
  {
   "cell_type": "markdown",
   "id": "3c25141f-1434-4bad-a4c8-9785009e097f",
   "metadata": {},
   "source": [
    "### 8. DIFFERENT TYPES OF APPLICATION"
   ]
  },
  {
   "cell_type": "code",
   "execution_count": 43,
   "id": "2e0778a2-8bde-4d28-ae35-81d5ab134955",
   "metadata": {},
   "outputs": [
    {
     "data": {
      "text/plain": [
       "array(['Free', 'Paid'], dtype=object)"
      ]
     },
     "execution_count": 43,
     "metadata": {},
     "output_type": "execute_result"
    }
   ],
   "source": [
    "df['Type'].unique()"
   ]
  },
  {
   "cell_type": "markdown",
   "id": "51172d09-0674-4414-8b12-25d5fbf4b777",
   "metadata": {},
   "source": [
    "### 9. DIFFERENT TYPES OF APPLICATION"
   ]
  },
  {
   "cell_type": "code",
   "execution_count": 44,
   "id": "5f27daff-3988-41eb-9872-7ffd0d5221a1",
   "metadata": {},
   "outputs": [
    {
     "data": {
      "text/plain": [
       "2"
      ]
     },
     "execution_count": 44,
     "metadata": {},
     "output_type": "execute_result"
    }
   ],
   "source": [
    "len(df['Type'].unique())"
   ]
  },
  {
   "cell_type": "markdown",
   "id": "bdfaff8e-3dd7-4949-842d-e243bb1beba5",
   "metadata": {},
   "source": [
    "### 10. PERCENTAGE OF FREE TYPE"
   ]
  },
  {
   "cell_type": "code",
   "execution_count": 51,
   "id": "29421e95-e39c-4e77-bc11-f092d8a0a681",
   "metadata": {},
   "outputs": [
    {
     "name": "stdout",
     "output_type": "stream",
     "text": [
      "9360\n",
      "8715\n",
      "645\n",
      "93.10897435897436\n"
     ]
    }
   ],
   "source": [
    "size=len(df['Type'])\n",
    "count_free=0\n",
    "for i in df['Type']:\n",
    "    if(i=='Free'):\n",
    "        count_free=count_free+1\n",
    "print(size)\n",
    "print(count_free)\n",
    "count_paid=size-count_free\n",
    "print(count_paid)\n",
    "#percentage of count free\n",
    "count_free_percentage=(count_free/size)*100\n",
    "print(count_free_percentage)\n"
   ]
  },
  {
   "cell_type": "markdown",
   "id": "a8d7eb3e-6ac9-4ae0-a66d-a26b6f5eefb0",
   "metadata": {},
   "source": [
    "### 11. PERCENTAGE OF FREE TYPE"
   ]
  },
  {
   "cell_type": "code",
   "execution_count": 56,
   "id": "4fed139c-9a26-43df-bbfb-3da8ec9e8f14",
   "metadata": {},
   "outputs": [
    {
     "data": {
      "text/plain": [
       "array(['Everyone', 'Teen', 'Everyone 10+', 'Mature 17+',\n",
       "       'Adults only 18+', 'Unrated'], dtype=object)"
      ]
     },
     "execution_count": 56,
     "metadata": {},
     "output_type": "execute_result"
    }
   ],
   "source": [
    "ans=df['Content Rating'].unique()\n",
    "ans"
   ]
  },
  {
   "cell_type": "markdown",
   "id": "032e66ec-3793-4e48-a6f3-8e544e3b5b3d",
   "metadata": {},
   "source": [
    "### 12. TOTAL NUMBER OF CATEGORIES IN EACH APPLICATION\n"
   ]
  },
  {
   "cell_type": "code",
   "execution_count": 57,
   "id": "15ee9c68-7001-414f-a097-c1129d535a09",
   "metadata": {},
   "outputs": [
    {
     "data": {
      "text/plain": [
       "Category\n",
       "FAMILY                 1746\n",
       "GAME                   1097\n",
       "TOOLS                   733\n",
       "PRODUCTIVITY            351\n",
       "MEDICAL                 350\n",
       "COMMUNICATION           328\n",
       "FINANCE                 323\n",
       "SPORTS                  319\n",
       "PHOTOGRAPHY             317\n",
       "LIFESTYLE               314\n",
       "PERSONALIZATION         312\n",
       "BUSINESS                303\n",
       "HEALTH_AND_FITNESS      297\n",
       "SOCIAL                  259\n",
       "SHOPPING                238\n",
       "NEWS_AND_MAGAZINES      233\n",
       "TRAVEL_AND_LOCAL        226\n",
       "DATING                  195\n",
       "BOOKS_AND_REFERENCE     178\n",
       "VIDEO_PLAYERS           160\n",
       "EDUCATION               155\n",
       "ENTERTAINMENT           149\n",
       "MAPS_AND_NAVIGATION     124\n",
       "FOOD_AND_DRINK          109\n",
       "HOUSE_AND_HOME           76\n",
       "WEATHER                  75\n",
       "AUTO_AND_VEHICLES        73\n",
       "LIBRARIES_AND_DEMO       64\n",
       "ART_AND_DESIGN           61\n",
       "COMICS                   58\n",
       "PARENTING                50\n",
       "EVENTS                   45\n",
       "BEAUTY                   42\n",
       "Name: count, dtype: int64"
      ]
     },
     "execution_count": 57,
     "metadata": {},
     "output_type": "execute_result"
    }
   ],
   "source": [
    "df['Category'].value_counts()"
   ]
  },
  {
   "cell_type": "markdown",
   "id": "f1ad480b-1fb0-47b3-80b3-4cffed7b4fe4",
   "metadata": {},
   "source": [
    "### 13. TOTAL NUMBER OF APPLICATION IN EACH TYPE\n"
   ]
  },
  {
   "cell_type": "code",
   "execution_count": 58,
   "id": "0e53b791-735f-4474-a110-51fcae9bc8ee",
   "metadata": {},
   "outputs": [
    {
     "data": {
      "text/plain": [
       "Type\n",
       "Free    8715\n",
       "Paid     645\n",
       "Name: count, dtype: int64"
      ]
     },
     "execution_count": 58,
     "metadata": {},
     "output_type": "execute_result"
    }
   ],
   "source": [
    "df['Type'].value_counts()"
   ]
  }
 ],
 "metadata": {
  "kernelspec": {
   "display_name": "Python 3 (ipykernel)",
   "language": "python",
   "name": "python3"
  },
  "language_info": {
   "codemirror_mode": {
    "name": "ipython",
    "version": 3
   },
   "file_extension": ".py",
   "mimetype": "text/x-python",
   "name": "python",
   "nbconvert_exporter": "python",
   "pygments_lexer": "ipython3",
   "version": "3.11.7"
  }
 },
 "nbformat": 4,
 "nbformat_minor": 5
}
